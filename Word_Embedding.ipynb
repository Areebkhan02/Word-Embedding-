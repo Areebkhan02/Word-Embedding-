{
  "nbformat": 4,
  "nbformat_minor": 0,
  "metadata": {
    "colab": {
      "name": "Word_Embedding.ipynb",
      "provenance": []
    },
    "kernelspec": {
      "name": "python3",
      "display_name": "Python 3"
    },
    "language_info": {
      "name": "python"
    }
  },
  "cells": [
    {
      "cell_type": "code",
      "execution_count": null,
      "metadata": {
        "id": "v3Vq_JaTegEx"
      },
      "outputs": [],
      "source": [
        "from tensorflow.keras.preprocessing.text import one_hot\n",
        "from tensorflow.keras.layers import Embedding\n",
        "from tensorflow.keras.models import Sequential\n",
        "from tensorflow.keras.preprocessing.sequence import pad_sequences\n"
      ]
    },
    {
      "cell_type": "code",
      "source": [
        "sentences = [\"I am Areeb\",\n",
        "             \"One of my favourite show is stranger things\",\n",
        "             \"Steve is my most favourite charactor\",\n",
        "             \"The redemption arc of steve is so great\",\n",
        "             \"He is brave and he is funny\",\n",
        "             \"He is the best babbysitter in the world\",\n",
        "             \"Nancy is his love of life\",\n",
        "             \"But Nancy now doesn't deserve a good hearted steve\",\n",
        "             \"The next part of stranger things season 4 is due on 1st july 2022\"]\n",
        "vocab_size = 10000\n",
        "onehot_rep = [one_hot(x,vocab_size) for x in sentences]\n",
        "#print(onehot_rep)\n",
        "pad=14\n",
        "padding=pad_sequences(onehot_rep,padding=\"pre\",maxlen=pad)\n",
        "#print(padding)\n",
        "dimension=10\n",
        "model=Sequential()\n",
        "model.add(Embedding(vocab_size,dimension,input_length=pad))\n",
        "model.compile('adam','mse')\n",
        "#model.summary()\n",
        "Final = model.predict(padding)\n",
        "print(padding[0])\n",
        "print(Final[0])\n",
        "\n",
        "      "
      ],
      "metadata": {
        "colab": {
          "base_uri": "https://localhost:8080/"
        },
        "id": "7EDYV93ngpKY",
        "outputId": "7a97fd28-d55f-420b-d0a1-ee956ff06d68"
      },
      "execution_count": null,
      "outputs": [
        {
          "output_type": "stream",
          "name": "stdout",
          "text": [
            "[   0    0    0    0    0    0    0    0    0    0    0 2452  881 3146]\n",
            "[[ 0.03204538  0.02449867  0.00082892 -0.00894008 -0.03890604  0.02738198\n",
            "   0.03130401  0.03056944 -0.02822243 -0.03332724]\n",
            " [ 0.03204538  0.02449867  0.00082892 -0.00894008 -0.03890604  0.02738198\n",
            "   0.03130401  0.03056944 -0.02822243 -0.03332724]\n",
            " [ 0.03204538  0.02449867  0.00082892 -0.00894008 -0.03890604  0.02738198\n",
            "   0.03130401  0.03056944 -0.02822243 -0.03332724]\n",
            " [ 0.03204538  0.02449867  0.00082892 -0.00894008 -0.03890604  0.02738198\n",
            "   0.03130401  0.03056944 -0.02822243 -0.03332724]\n",
            " [ 0.03204538  0.02449867  0.00082892 -0.00894008 -0.03890604  0.02738198\n",
            "   0.03130401  0.03056944 -0.02822243 -0.03332724]\n",
            " [ 0.03204538  0.02449867  0.00082892 -0.00894008 -0.03890604  0.02738198\n",
            "   0.03130401  0.03056944 -0.02822243 -0.03332724]\n",
            " [ 0.03204538  0.02449867  0.00082892 -0.00894008 -0.03890604  0.02738198\n",
            "   0.03130401  0.03056944 -0.02822243 -0.03332724]\n",
            " [ 0.03204538  0.02449867  0.00082892 -0.00894008 -0.03890604  0.02738198\n",
            "   0.03130401  0.03056944 -0.02822243 -0.03332724]\n",
            " [ 0.03204538  0.02449867  0.00082892 -0.00894008 -0.03890604  0.02738198\n",
            "   0.03130401  0.03056944 -0.02822243 -0.03332724]\n",
            " [ 0.03204538  0.02449867  0.00082892 -0.00894008 -0.03890604  0.02738198\n",
            "   0.03130401  0.03056944 -0.02822243 -0.03332724]\n",
            " [ 0.03204538  0.02449867  0.00082892 -0.00894008 -0.03890604  0.02738198\n",
            "   0.03130401  0.03056944 -0.02822243 -0.03332724]\n",
            " [ 0.03628821  0.02562436 -0.00659872  0.00772089 -0.03076231 -0.01235694\n",
            "   0.01319097 -0.01182649  0.01627951  0.02018693]\n",
            " [-0.03136142 -0.03202202 -0.01843685 -0.03486962 -0.01712543  0.01952214\n",
            "  -0.03013376 -0.03383588 -0.03701037  0.00615938]\n",
            " [ 0.00628151 -0.03188731  0.02125833  0.00651186  0.01383368  0.02008916\n",
            "   0.02668779 -0.02016938  0.03864297  0.0463024 ]]\n"
          ]
        }
      ]
    }
  ]
}